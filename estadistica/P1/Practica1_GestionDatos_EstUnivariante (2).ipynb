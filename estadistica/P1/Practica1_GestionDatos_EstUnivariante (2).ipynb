{
 "cells": [
  {
   "cell_type": "markdown",
   "id": "6acded27",
   "metadata": {},
   "source": [
    "## PRÁCTICA 1 - Gestión de Datos. Estadística Descriptiva Univariante.\n",
    "\n",
    "Objetivos:\n",
    "\n",
    "Manejo básico de estadística en Python:\n",
    "\n",
    "- Gestión de datos\n",
    "    \n",
    "- Manejo de ficheros\n",
    "    \n",
    "- Análisis descriptivo de una y dos variables\n",
    "    \n",
    "- Búsqueda de relación entre variables\n",
    "    \n",
    "- Realización de análisis estadísticos y generación de informes"
   ]
  },
  {
   "cell_type": "markdown",
   "id": "c406a0f6",
   "metadata": {},
   "source": [
    "### Instalamos las librerías necesarias\n",
    "\n",
    "Primero, es necesario instalar las librerías `numpy`, `pandas`, `scipy`, `statsmodels`, `matplotlib` y `seaborn`\n",
    "\n",
    "Si tenéis instalado `conda`:\n",
    "\n",
    "`conda install -c conda-forge numpy`\n",
    "\n",
    "`conda install -c conda-forge pandas`\n",
    "\n",
    "`conda install -c conda-forge scipy`\n",
    "\n",
    "`conda install -c conda-forge statsmodels`\n",
    "\n",
    "`conda install -c conda-forge matplotlib`\n",
    "\n",
    "`conda install seaborn`\n",
    "\n",
    "Si vuestra instalación de `Python` es básica:\n",
    "\n",
    "`pip3 install numpy`\n",
    "\n",
    "`pip3 install pandas`\n",
    "\n",
    "`pip3 install scipy`\n",
    "\n",
    "`pip3 install statsmodels`\n",
    "\n",
    "`pip3 install matplotlib`\n",
    "\n",
    "`pip3 install seaborn`\n",
    "\n",
    "Todos estos comandos los tenéis que ejecutar en vuestra Terminal, para que la instalación sea en vuestro ordenador y no en un ambiente creado. "
   ]
  },
  {
   "cell_type": "code",
   "execution_count": null,
   "id": "c3d865ff",
   "metadata": {},
   "outputs": [],
   "source": [
    "#Importamos las librerías que vamos a utilizar\n",
    "\n",
    "import numpy  as np\n",
    "import pandas as pd\n",
    "import matplotlib.pyplot as plt\n",
    "import seaborn as sns\n"
   ]
  },
  {
   "cell_type": "markdown",
   "id": "fadbafe8",
   "metadata": {},
   "source": [
    "### Introducción a la estadística en Python: Conceptos Básicos\n",
    "#### 1. Creación manual de un fichero de datos (`pd.DataFrame`): Introducción de las variables Estatura (numérica) y Sexo (entero, 1=Hombre, 2=Mujer). \n",
    "\n",
    "#### Estatura de 60 personas expresada en metros: \n",
    "\n",
    "1.62 1.71 1.57 1.61 1.80 1.91 1.58 1.63 1.62 1.70\n",
    "1.75 1.68 1.54 1.79 1.72 1.68 1.90 1.69 1.73 1.85\n",
    "1.60 1.60 1.62 1.77 1.71 1.89 1.92 1.65 1.99 2.05\n",
    "1.41 1.67 1.93 1.55 2.04 1.73 1.80 1.83 1.75 1.66\n",
    "1.93 1.85 1.84 1.68 1.63 1.75 1.77 1.84 1.85 1.90\n",
    "2.00 1.83 2.01 1.82 1.65 1.72 1.68 1.73 1.54 1.65\n",
    "\n",
    "#### Sexos correspondientes a los datos anteriores:\n",
    "\n",
    "2 1 2 1 1 2 2 2 2 1\n",
    "1 1 1 2 2 2 2 2 2 2\n",
    "2 2 2 2 2 1 1 2 2 2\n",
    "2 1 1 1 2 2 2 2 2 1\n",
    "1 1 2 1 2 2 2 1 2 2\n",
    "2 2 1 2 2 1 1 2 2 2\n",
    "\n",
    "#### Con los datos de Sexos, reemplazar el valor númerico por texto (1=Hombre; 2=Mujer) y crear un `pd.DataFrame`\n",
    "\n"
   ]
  },
  {
   "cell_type": "code",
   "execution_count": null,
   "id": "3c489daf",
   "metadata": {},
   "outputs": [],
   "source": [
    "#1a. Creamos una lista de datos para la Estatura y el Sexo correspondiente\n",
    "\n",
    "\n"
   ]
  },
  {
   "cell_type": "code",
   "execution_count": null,
   "id": "8031886a",
   "metadata": {},
   "outputs": [],
   "source": [
    "#1b. Reemplazamos el valor numérico por texto\n",
    "\n",
    "\n"
   ]
  },
  {
   "cell_type": "code",
   "execution_count": null,
   "id": "ec1f0679",
   "metadata": {},
   "outputs": [],
   "source": [
    "#1c. Generamos un DataFrame con pd.DataFrame()\n",
    "\n",
    "\n"
   ]
  },
  {
   "cell_type": "markdown",
   "id": "5aa0602c",
   "metadata": {},
   "source": [
    "#### 2. Análisis descriptivo / variables cuantitativas: Análisis descriptivo numérico y gráfico. \n",
    "- Resumen estadístico (media, mediana, desviación estandar, quantiles...) y tabla de frecuencias.  \n",
    "- Hacer un gráfico de dispersión, un gráfico de caja y bigotes, y un histograma"
   ]
  },
  {
   "cell_type": "code",
   "execution_count": null,
   "id": "e7e9a33b",
   "metadata": {},
   "outputs": [],
   "source": [
    "#2a. Realizamos el resumen estadístico. PISTA: hay una función que genera las \n",
    "#    variables básicas que necesitamos. \n",
    "\n",
    "\n"
   ]
  },
  {
   "cell_type": "code",
   "execution_count": null,
   "id": "3b1a153a",
   "metadata": {},
   "outputs": [],
   "source": [
    "#2b. Generamos una tabla de frecuencias. \n",
    "\n",
    "\n",
    "\n"
   ]
  },
  {
   "cell_type": "code",
   "execution_count": null,
   "id": "bf0507e3",
   "metadata": {},
   "outputs": [],
   "source": [
    "#2c. Generamos un gráfico de dispersión.\n",
    "\n",
    "\n",
    "\n"
   ]
  },
  {
   "cell_type": "code",
   "execution_count": null,
   "id": "6cba5bf3",
   "metadata": {},
   "outputs": [],
   "source": [
    "#2d. Generamos un gráfico de cajas y bigotes.\n",
    "\n",
    "\n",
    "\n",
    "\n",
    "#    BONUS: hay un tipo de gráfico que representa también la función de distribución. Intenta encontrarlo. \n",
    "\n",
    "\n"
   ]
  },
  {
   "cell_type": "code",
   "execution_count": null,
   "id": "475dd419",
   "metadata": {},
   "outputs": [],
   "source": [
    "#2e. Generamos un histograma.\n",
    "\n",
    "\n",
    "\n"
   ]
  },
  {
   "cell_type": "markdown",
   "id": "0a6a4665",
   "metadata": {},
   "source": [
    "#### 3. Análisis descriptivo / variables cualitativa: Análisis descriptivo numérico y gráfico. \n",
    "- Resumen estadístico (frecuencia) y tabla de frecuencias.  \n",
    "- Hacer un diagrama de barras y un diagrama de sectores"
   ]
  },
  {
   "cell_type": "code",
   "execution_count": null,
   "id": "817bc2ae",
   "metadata": {},
   "outputs": [],
   "source": [
    "#3a. Realizamos el resumen estadístico. PISTA: hay una función que genera las \n",
    "#    variables básicas que necesitamos. \n",
    "\n",
    "\n"
   ]
  },
  {
   "cell_type": "code",
   "execution_count": 1,
   "id": "bfbe60b1",
   "metadata": {},
   "outputs": [],
   "source": [
    "#3b. Generamos una tabla de frecuencias. \n",
    "\n",
    "\n",
    "\n"
   ]
  },
  {
   "cell_type": "code",
   "execution_count": null,
   "id": "7af9d0fc",
   "metadata": {},
   "outputs": [],
   "source": [
    "#3c. Generamos un diagrama de barras. \n",
    "\n",
    "\n",
    "\n"
   ]
  },
  {
   "cell_type": "code",
   "execution_count": null,
   "id": "aa3cc951",
   "metadata": {},
   "outputs": [],
   "source": [
    "#3d. Generamos un diagrama de sectores.\n",
    "\n",
    "\n",
    "\n"
   ]
  },
  {
   "cell_type": "markdown",
   "id": "a21c69fa",
   "metadata": {},
   "source": [
    "#### 4. Hallar la estatura media por sexo y generar los histogramas de alturas por sexo para compararlos. \n",
    "- Previamente, manipula las opciones gráficas de la forma que se desee. "
   ]
  },
  {
   "cell_type": "code",
   "execution_count": null,
   "id": "0826ece4",
   "metadata": {},
   "outputs": [],
   "source": [
    "#4a. Halla la estatura media por sexo\n",
    "\n",
    "\n",
    "\n"
   ]
  },
  {
   "cell_type": "code",
   "execution_count": null,
   "id": "8cf7fa80",
   "metadata": {},
   "outputs": [],
   "source": [
    "#4b. Genera los histogramas de alturas por sexo y poder compararlos. \n",
    "\n",
    "\n",
    "\n"
   ]
  },
  {
   "cell_type": "code",
   "execution_count": null,
   "id": "a9e5573f",
   "metadata": {},
   "outputs": [],
   "source": [
    "#4c. Manipula el gráfico anterior en la forma que desees para poder ser presentado. \n",
    "\n",
    "\n",
    "\n"
   ]
  },
  {
   "cell_type": "markdown",
   "id": "0751c92d",
   "metadata": {},
   "source": [
    "#### 5. El dataset `mpg` contiene información sobre características de un conjunto de vehículos. \n",
    "1. Para cargar el dataset, usad la siguiente función `sns.load_dataset('mpg')`\n",
    "\n",
    "2. Haz una tabla de frecuencias, un diagrama de barras y un diagrama de sectores de la variable `model_year` (año de fabricación).\n",
    "\n",
    "3. Haz una tabla de frecuencias para la variable `mpg`. ¿Qué porcentaje de coches consumenos menos de 22 mpg (usa intervalos de 22)? \n",
    "\n",
    "4. Haz el box-and-whisker plot de alguna de las variables cuantitativas y comenta sus características más importantes (concentraciones, asimetrías, atípicos...).\n",
    "\n",
    "5. Haz un polígono de frecuencias RELATIVAS acumuladas de la variable `horsepower` (potencia - caballos).\n",
    "\n",
    "6. Utilizando el polígono o diagrama de frecuencias relativas acumuladas, di aproximadamente la proporción de vehículos que tienen una potencia menor o igual a 100 CV. "
   ]
  },
  {
   "cell_type": "code",
   "execution_count": null,
   "id": "0ab38e9d",
   "metadata": {},
   "outputs": [],
   "source": [
    "#5x. Carga el dataset mpg. \n",
    "\n",
    "mpg = sns.load_dataset('mpg')\n",
    "\n"
   ]
  },
  {
   "cell_type": "code",
   "execution_count": null,
   "id": "fe2545f3",
   "metadata": {},
   "outputs": [],
   "source": [
    "#5a. Genera una tabla de frecuencias, un diagrama de barras y un diagrama de sectores de la variable \n",
    "#    'model_year' (año de fabricación)\n",
    "\n",
    "\n",
    "\n"
   ]
  },
  {
   "cell_type": "code",
   "execution_count": null,
   "id": "54f4526e",
   "metadata": {},
   "outputs": [],
   "source": [
    "#5b. Genera una tabla de frecuencias de la variable 'mpg'. \n",
    "#    ¿Qué porcentaje de coches consumenos menos de 22 mpg (usa intervalos de 22)?\n",
    "\n",
    "\n",
    "\n"
   ]
  },
  {
   "cell_type": "code",
   "execution_count": null,
   "id": "98a9051c",
   "metadata": {},
   "outputs": [],
   "source": [
    "#5c. Genera un box-and-whisker plot de alguna de las variables cuantitativas y \n",
    "#    comenta sus características más importantes (concentraciones, asimetrías, atípicos...)\n",
    "\n",
    "\n",
    "\n",
    "\n",
    "#    BONUS: hay un tipo de gráfico que representa también la función de distribución. Intenta encontrarlo. \n",
    "\n",
    "\n",
    "\n"
   ]
  },
  {
   "cell_type": "code",
   "execution_count": null,
   "id": "a10001c8",
   "metadata": {},
   "outputs": [],
   "source": [
    "#5d. Genera un polígono de frecuencias RELATIVAS acumuladas de la variable 'horsepower' (potencia - caballos).\n",
    "\n",
    "\n",
    "\n"
   ]
  },
  {
   "cell_type": "code",
   "execution_count": null,
   "id": "a2f69ad6",
   "metadata": {},
   "outputs": [],
   "source": [
    "#5e. Utilizando la figura previa, di aproximadamente la proporción de vehículos que tienen una\n",
    "#    potencia menor o igual a 100 CV.\n",
    "\n",
    "\n",
    "\n"
   ]
  },
  {
   "cell_type": "markdown",
   "id": "2c5bce99",
   "metadata": {},
   "source": [
    "#### Realizar un informe con los análisis realizados de cada uno de los apartados anteriores y exportarlo en un fichero .PDF\n",
    "El informe se realizará en un grupos de dos personas analizando los resultados obtenidos en cada uno de los apartados anteriores. Todas las gráficas deberán estar bien maquetadas: título, titulo en los ejes, ejes con un intervalo lógico y leyenda (si es el caso). El código empleado también se deberá incluir. \n",
    "\n",
    "En el Moodle se encuentra un trabajo tipo para que tengáis de referencia. El archivo incluirá los nombres de todos autores en el siguiente formato:\n",
    "\n",
    "Nombre del archivo: Practica1_ApellidosNombre1_ApellidosNombre2.pdf (extensión obligatoria en .pdf)\n",
    "\n",
    "Se avisará en Moodle la fecha límite de entrega de este informe. "
   ]
  }
 ],
 "metadata": {
  "kernelspec": {
   "display_name": "Python 3 (ipykernel)",
   "language": "python",
   "name": "python3"
  },
  "language_info": {
   "codemirror_mode": {
    "name": "ipython",
    "version": 3
   },
   "file_extension": ".py",
   "mimetype": "text/x-python",
   "name": "python",
   "nbconvert_exporter": "python",
   "pygments_lexer": "ipython3",
   "version": "3.10.6"
  }
 },
 "nbformat": 4,
 "nbformat_minor": 5
}
