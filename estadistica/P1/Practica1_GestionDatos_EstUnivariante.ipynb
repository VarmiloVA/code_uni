{
 "cells": [
  {
   "cell_type": "markdown",
   "id": "6acded27",
   "metadata": {},
   "source": [
    "## PRÁCTICA 1 - Gestión de Datos. Estadística Descriptiva Univariante.\n",
    "\n",
    "Objetivos:\n",
    "\n",
    "Manejo básico de estadística en Python:\n",
    "\n",
    "- Gestión de datos\n",
    "    \n",
    "- Manejo de ficheros\n",
    "    \n",
    "- Análisis descriptivo de una y dos variables\n",
    "    \n",
    "- Búsqueda de relación entre variables\n",
    "    \n",
    "- Realización de análisis estadísticos y generación de informes"
   ]
  },
  {
   "cell_type": "markdown",
   "id": "c406a0f6",
   "metadata": {},
   "source": [
    "### Instalamos las librerías necesarias\n",
    "\n",
    "Primero, es necesario instalar las librerías `numpy`, `pandas`, `scipy`, `statsmodels`, `matplotlib` y `seaborn`\n",
    "\n",
    "Si tenéis instalado `conda`:\n",
    "\n",
    "`conda install -c conda-forge numpy`\n",
    "\n",
    "`conda install -c conda-forge pandas`\n",
    "\n",
    "`conda install -c conda-forge scipy`\n",
    "\n",
    "`conda install -c conda-forge statsmodels`\n",
    "\n",
    "`conda install -c conda-forge matplotlib`\n",
    "\n",
    "`conda install seaborn`\n",
    "\n",
    "Si vuestra instalación de `Python` es básica:\n",
    "\n",
    "`pip3 install numpy`\n",
    "\n",
    "`pip3 install pandas`\n",
    "\n",
    "`pip3 install scipy`\n",
    "\n",
    "`pip3 install statsmodels`\n",
    "\n",
    "`pip3 install matplotlib`\n",
    "\n",
    "`pip3 install seaborn`\n",
    "\n",
    "Todos estos comandos los tenéis que ejecutar en vuestra Terminal, para que la instalación sea en vuestro ordenador y no en un ambiente creado. "
   ]
  },
  {
   "cell_type": "code",
   "execution_count": 1,
   "id": "c3d865ff",
   "metadata": {},
   "outputs": [],
   "source": [
    "#Importamos las librerías que vamos a utilizar\n",
    "\n",
    "import numpy  as np\n",
    "import pandas as pd\n",
    "import matplotlib.pyplot as plt\n",
    "import seaborn as sns\n"
   ]
  },
  {
   "cell_type": "markdown",
   "id": "fadbafe8",
   "metadata": {},
   "source": [
    "### Introducción a la estadística en Python: Conceptos Básicos\n",
    "#### 1. Creación manual de un fichero de datos (`pd.DataFrame`): Introducción de las variables Estatura (numérica) y Sexo (entero, 1=Hombre, 2=Mujer). \n",
    "\n",
    "#### Estatura de 60 personas expresada en metros: \n",
    "\n",
    "1.62 1.71 1.57 1.61 1.80 1.91 1.58 1.63 1.62 1.70\n",
    "1.75 1.68 1.54 1.79 1.72 1.68 1.90 1.69 1.73 1.85\n",
    "1.60 1.60 1.62 1.77 1.71 1.89 1.92 1.65 1.99 2.05\n",
    "1.41 1.67 1.93 1.55 2.04 1.73 1.80 1.83 1.75 1.66\n",
    "1.93 1.85 1.84 1.68 1.63 1.75 1.77 1.84 1.85 1.90\n",
    "2.00 1.83 2.01 1.82 1.65 1.72 1.68 1.73 1.54 1.65\n",
    "\n",
    "#### Sexos correspondientes a los datos anteriores:\n",
    "\n",
    "2 1 2 1 1 2 2 2 2 1\n",
    "1 1 1 2 2 2 2 2 2 2\n",
    "2 2 2 2 2 1 1 2 2 2\n",
    "2 1 1 1 2 2 2 2 2 1\n",
    "1 1 2 1 2 2 2 1 2 2\n",
    "2 2 1 2 2 1 1 2 2 2\n",
    "\n",
    "#### Con los datos de Sexos, reemplazar el valor númerico por texto (1=Hombre; 2=Mujer) y crear un `pd.DataFrame`\n",
    "\n"
   ]
  },
  {
   "cell_type": "code",
   "execution_count": 33,
   "id": "3c489daf",
   "metadata": {},
   "outputs": [],
   "source": [
    "#1a. Creamos una lista de datos para la Estatura y el Sexo correspondiente\n",
    "estatura = [1.62, 1.71, 1.57, 1.61, 1.80, 1.91, 1.58, 1.63, 1.62, 1.70, 1.75, 1.68, 1.54, 1.79, 1.72, 1.68, 1.90, 1.69, 1.73, 1.85, 1.60, 1.60, 1.62, 1.77, 1.71, 1.89, 1.92, 1.65, 1.99, 2.05, 1.41, 1.67, 1.93, 1.55, 2.04, 1.73, 1.80, 1.83, 1.75, 1.66, 1.93, 1.85, 1.84, 1.68, 1.63, 1.75, 1.77, 1.84, 1.85, 1.90, 2.00, 1.83, 2.01, 1.82, 1.65, 1.72, 1.68, 1.73, 1.54, 1.65]\n",
    "sexo = [2, 1, 2, 1, 1, 2, 2, 2, 2, 1, 1, 1, 1, 2, 2, 2, 2, 2, 2, 2, 2, 2, 2, 2, 2, 1, 1, 2, 2, 2, 2, 1, 1, 1, 2, 2, 2, 2, 2, 1, 1, 1, 2, 1, 2, 2, 2, 1, 2, 2, 2, 2, 1, 2, 2, 1, 1, 2, 2, 2]\n",
    "\n"
   ]
  },
  {
   "cell_type": "code",
   "execution_count": 34,
   "id": "8031886a",
   "metadata": {},
   "outputs": [
    {
     "name": "stdout",
     "output_type": "stream",
     "text": [
      "['Mujer', 'Hombre', 'Mujer', 'Hombre', 'Hombre', 'Mujer', 'Mujer', 'Mujer', 'Mujer', 'Hombre', 'Hombre', 'Hombre', 'Hombre', 'Mujer', 'Mujer', 'Mujer', 'Mujer', 'Mujer', 'Mujer', 'Mujer', 'Mujer', 'Mujer', 'Mujer', 'Mujer', 'Mujer', 'Hombre', 'Hombre', 'Mujer', 'Mujer', 'Mujer', 'Mujer', 'Hombre', 'Hombre', 'Hombre', 'Mujer', 'Mujer', 'Mujer', 'Mujer', 'Mujer', 'Hombre', 'Hombre', 'Hombre', 'Mujer', 'Hombre', 'Mujer', 'Mujer', 'Mujer', 'Hombre', 'Mujer', 'Mujer', 'Mujer', 'Mujer', 'Hombre', 'Mujer', 'Mujer', 'Hombre', 'Hombre', 'Mujer', 'Mujer', 'Mujer']\n"
     ]
    }
   ],
   "source": [
    "#1b. Reemplazamos el valor numérico por texto\n",
    "for i in range(len(sexo)):\n",
    "    if int(sexo[i]) == 1:\n",
    "        sexo[i] = \"Hombre\"\n",
    "    else:\n",
    "        sexo[i] = \"Mujer\"\n",
    "    \n",
    "print(sexo)"
   ]
  },
  {
   "cell_type": "code",
   "execution_count": 35,
   "id": "ec1f0679",
   "metadata": {},
   "outputs": [
    {
     "data": {
      "text/html": [
       "<div>\n",
       "<style scoped>\n",
       "    .dataframe tbody tr th:only-of-type {\n",
       "        vertical-align: middle;\n",
       "    }\n",
       "\n",
       "    .dataframe tbody tr th {\n",
       "        vertical-align: top;\n",
       "    }\n",
       "\n",
       "    .dataframe thead th {\n",
       "        text-align: right;\n",
       "    }\n",
       "</style>\n",
       "<table border=\"1\" class=\"dataframe\">\n",
       "  <thead>\n",
       "    <tr style=\"text-align: right;\">\n",
       "      <th></th>\n",
       "      <th>Estatura</th>\n",
       "      <th>Sexo</th>\n",
       "    </tr>\n",
       "  </thead>\n",
       "  <tbody>\n",
       "    <tr>\n",
       "      <th>0</th>\n",
       "      <td>1.62</td>\n",
       "      <td>Mujer</td>\n",
       "    </tr>\n",
       "    <tr>\n",
       "      <th>1</th>\n",
       "      <td>1.71</td>\n",
       "      <td>Hombre</td>\n",
       "    </tr>\n",
       "    <tr>\n",
       "      <th>2</th>\n",
       "      <td>1.57</td>\n",
       "      <td>Mujer</td>\n",
       "    </tr>\n",
       "    <tr>\n",
       "      <th>3</th>\n",
       "      <td>1.61</td>\n",
       "      <td>Hombre</td>\n",
       "    </tr>\n",
       "    <tr>\n",
       "      <th>4</th>\n",
       "      <td>1.80</td>\n",
       "      <td>Hombre</td>\n",
       "    </tr>\n",
       "    <tr>\n",
       "      <th>5</th>\n",
       "      <td>1.91</td>\n",
       "      <td>Mujer</td>\n",
       "    </tr>\n",
       "    <tr>\n",
       "      <th>6</th>\n",
       "      <td>1.58</td>\n",
       "      <td>Mujer</td>\n",
       "    </tr>\n",
       "    <tr>\n",
       "      <th>7</th>\n",
       "      <td>1.63</td>\n",
       "      <td>Mujer</td>\n",
       "    </tr>\n",
       "    <tr>\n",
       "      <th>8</th>\n",
       "      <td>1.62</td>\n",
       "      <td>Mujer</td>\n",
       "    </tr>\n",
       "    <tr>\n",
       "      <th>9</th>\n",
       "      <td>1.70</td>\n",
       "      <td>Hombre</td>\n",
       "    </tr>\n",
       "    <tr>\n",
       "      <th>10</th>\n",
       "      <td>1.75</td>\n",
       "      <td>Hombre</td>\n",
       "    </tr>\n",
       "    <tr>\n",
       "      <th>11</th>\n",
       "      <td>1.68</td>\n",
       "      <td>Hombre</td>\n",
       "    </tr>\n",
       "    <tr>\n",
       "      <th>12</th>\n",
       "      <td>1.54</td>\n",
       "      <td>Hombre</td>\n",
       "    </tr>\n",
       "    <tr>\n",
       "      <th>13</th>\n",
       "      <td>1.79</td>\n",
       "      <td>Mujer</td>\n",
       "    </tr>\n",
       "    <tr>\n",
       "      <th>14</th>\n",
       "      <td>1.72</td>\n",
       "      <td>Mujer</td>\n",
       "    </tr>\n",
       "    <tr>\n",
       "      <th>15</th>\n",
       "      <td>1.68</td>\n",
       "      <td>Mujer</td>\n",
       "    </tr>\n",
       "    <tr>\n",
       "      <th>16</th>\n",
       "      <td>1.90</td>\n",
       "      <td>Mujer</td>\n",
       "    </tr>\n",
       "    <tr>\n",
       "      <th>17</th>\n",
       "      <td>1.69</td>\n",
       "      <td>Mujer</td>\n",
       "    </tr>\n",
       "    <tr>\n",
       "      <th>18</th>\n",
       "      <td>1.73</td>\n",
       "      <td>Mujer</td>\n",
       "    </tr>\n",
       "    <tr>\n",
       "      <th>19</th>\n",
       "      <td>1.85</td>\n",
       "      <td>Mujer</td>\n",
       "    </tr>\n",
       "    <tr>\n",
       "      <th>20</th>\n",
       "      <td>1.60</td>\n",
       "      <td>Mujer</td>\n",
       "    </tr>\n",
       "    <tr>\n",
       "      <th>21</th>\n",
       "      <td>1.60</td>\n",
       "      <td>Mujer</td>\n",
       "    </tr>\n",
       "    <tr>\n",
       "      <th>22</th>\n",
       "      <td>1.62</td>\n",
       "      <td>Mujer</td>\n",
       "    </tr>\n",
       "    <tr>\n",
       "      <th>23</th>\n",
       "      <td>1.77</td>\n",
       "      <td>Mujer</td>\n",
       "    </tr>\n",
       "    <tr>\n",
       "      <th>24</th>\n",
       "      <td>1.71</td>\n",
       "      <td>Mujer</td>\n",
       "    </tr>\n",
       "    <tr>\n",
       "      <th>25</th>\n",
       "      <td>1.89</td>\n",
       "      <td>Hombre</td>\n",
       "    </tr>\n",
       "    <tr>\n",
       "      <th>26</th>\n",
       "      <td>1.92</td>\n",
       "      <td>Hombre</td>\n",
       "    </tr>\n",
       "    <tr>\n",
       "      <th>27</th>\n",
       "      <td>1.65</td>\n",
       "      <td>Mujer</td>\n",
       "    </tr>\n",
       "    <tr>\n",
       "      <th>28</th>\n",
       "      <td>1.99</td>\n",
       "      <td>Mujer</td>\n",
       "    </tr>\n",
       "    <tr>\n",
       "      <th>29</th>\n",
       "      <td>2.05</td>\n",
       "      <td>Mujer</td>\n",
       "    </tr>\n",
       "    <tr>\n",
       "      <th>30</th>\n",
       "      <td>1.41</td>\n",
       "      <td>Mujer</td>\n",
       "    </tr>\n",
       "    <tr>\n",
       "      <th>31</th>\n",
       "      <td>1.67</td>\n",
       "      <td>Hombre</td>\n",
       "    </tr>\n",
       "    <tr>\n",
       "      <th>32</th>\n",
       "      <td>1.93</td>\n",
       "      <td>Hombre</td>\n",
       "    </tr>\n",
       "    <tr>\n",
       "      <th>33</th>\n",
       "      <td>1.55</td>\n",
       "      <td>Hombre</td>\n",
       "    </tr>\n",
       "    <tr>\n",
       "      <th>34</th>\n",
       "      <td>2.04</td>\n",
       "      <td>Mujer</td>\n",
       "    </tr>\n",
       "    <tr>\n",
       "      <th>35</th>\n",
       "      <td>1.73</td>\n",
       "      <td>Mujer</td>\n",
       "    </tr>\n",
       "    <tr>\n",
       "      <th>36</th>\n",
       "      <td>1.80</td>\n",
       "      <td>Mujer</td>\n",
       "    </tr>\n",
       "    <tr>\n",
       "      <th>37</th>\n",
       "      <td>1.83</td>\n",
       "      <td>Mujer</td>\n",
       "    </tr>\n",
       "    <tr>\n",
       "      <th>38</th>\n",
       "      <td>1.75</td>\n",
       "      <td>Mujer</td>\n",
       "    </tr>\n",
       "    <tr>\n",
       "      <th>39</th>\n",
       "      <td>1.66</td>\n",
       "      <td>Hombre</td>\n",
       "    </tr>\n",
       "    <tr>\n",
       "      <th>40</th>\n",
       "      <td>1.93</td>\n",
       "      <td>Hombre</td>\n",
       "    </tr>\n",
       "    <tr>\n",
       "      <th>41</th>\n",
       "      <td>1.85</td>\n",
       "      <td>Hombre</td>\n",
       "    </tr>\n",
       "    <tr>\n",
       "      <th>42</th>\n",
       "      <td>1.84</td>\n",
       "      <td>Mujer</td>\n",
       "    </tr>\n",
       "    <tr>\n",
       "      <th>43</th>\n",
       "      <td>1.68</td>\n",
       "      <td>Hombre</td>\n",
       "    </tr>\n",
       "    <tr>\n",
       "      <th>44</th>\n",
       "      <td>1.63</td>\n",
       "      <td>Mujer</td>\n",
       "    </tr>\n",
       "    <tr>\n",
       "      <th>45</th>\n",
       "      <td>1.75</td>\n",
       "      <td>Mujer</td>\n",
       "    </tr>\n",
       "    <tr>\n",
       "      <th>46</th>\n",
       "      <td>1.77</td>\n",
       "      <td>Mujer</td>\n",
       "    </tr>\n",
       "    <tr>\n",
       "      <th>47</th>\n",
       "      <td>1.84</td>\n",
       "      <td>Hombre</td>\n",
       "    </tr>\n",
       "    <tr>\n",
       "      <th>48</th>\n",
       "      <td>1.85</td>\n",
       "      <td>Mujer</td>\n",
       "    </tr>\n",
       "    <tr>\n",
       "      <th>49</th>\n",
       "      <td>1.90</td>\n",
       "      <td>Mujer</td>\n",
       "    </tr>\n",
       "    <tr>\n",
       "      <th>50</th>\n",
       "      <td>2.00</td>\n",
       "      <td>Mujer</td>\n",
       "    </tr>\n",
       "    <tr>\n",
       "      <th>51</th>\n",
       "      <td>1.83</td>\n",
       "      <td>Mujer</td>\n",
       "    </tr>\n",
       "    <tr>\n",
       "      <th>52</th>\n",
       "      <td>2.01</td>\n",
       "      <td>Hombre</td>\n",
       "    </tr>\n",
       "    <tr>\n",
       "      <th>53</th>\n",
       "      <td>1.82</td>\n",
       "      <td>Mujer</td>\n",
       "    </tr>\n",
       "    <tr>\n",
       "      <th>54</th>\n",
       "      <td>1.65</td>\n",
       "      <td>Mujer</td>\n",
       "    </tr>\n",
       "    <tr>\n",
       "      <th>55</th>\n",
       "      <td>1.72</td>\n",
       "      <td>Hombre</td>\n",
       "    </tr>\n",
       "    <tr>\n",
       "      <th>56</th>\n",
       "      <td>1.68</td>\n",
       "      <td>Hombre</td>\n",
       "    </tr>\n",
       "    <tr>\n",
       "      <th>57</th>\n",
       "      <td>1.73</td>\n",
       "      <td>Mujer</td>\n",
       "    </tr>\n",
       "    <tr>\n",
       "      <th>58</th>\n",
       "      <td>1.54</td>\n",
       "      <td>Mujer</td>\n",
       "    </tr>\n",
       "    <tr>\n",
       "      <th>59</th>\n",
       "      <td>1.65</td>\n",
       "      <td>Mujer</td>\n",
       "    </tr>\n",
       "  </tbody>\n",
       "</table>\n",
       "</div>"
      ],
      "text/plain": [
       "    Estatura    Sexo\n",
       "0       1.62   Mujer\n",
       "1       1.71  Hombre\n",
       "2       1.57   Mujer\n",
       "3       1.61  Hombre\n",
       "4       1.80  Hombre\n",
       "5       1.91   Mujer\n",
       "6       1.58   Mujer\n",
       "7       1.63   Mujer\n",
       "8       1.62   Mujer\n",
       "9       1.70  Hombre\n",
       "10      1.75  Hombre\n",
       "11      1.68  Hombre\n",
       "12      1.54  Hombre\n",
       "13      1.79   Mujer\n",
       "14      1.72   Mujer\n",
       "15      1.68   Mujer\n",
       "16      1.90   Mujer\n",
       "17      1.69   Mujer\n",
       "18      1.73   Mujer\n",
       "19      1.85   Mujer\n",
       "20      1.60   Mujer\n",
       "21      1.60   Mujer\n",
       "22      1.62   Mujer\n",
       "23      1.77   Mujer\n",
       "24      1.71   Mujer\n",
       "25      1.89  Hombre\n",
       "26      1.92  Hombre\n",
       "27      1.65   Mujer\n",
       "28      1.99   Mujer\n",
       "29      2.05   Mujer\n",
       "30      1.41   Mujer\n",
       "31      1.67  Hombre\n",
       "32      1.93  Hombre\n",
       "33      1.55  Hombre\n",
       "34      2.04   Mujer\n",
       "35      1.73   Mujer\n",
       "36      1.80   Mujer\n",
       "37      1.83   Mujer\n",
       "38      1.75   Mujer\n",
       "39      1.66  Hombre\n",
       "40      1.93  Hombre\n",
       "41      1.85  Hombre\n",
       "42      1.84   Mujer\n",
       "43      1.68  Hombre\n",
       "44      1.63   Mujer\n",
       "45      1.75   Mujer\n",
       "46      1.77   Mujer\n",
       "47      1.84  Hombre\n",
       "48      1.85   Mujer\n",
       "49      1.90   Mujer\n",
       "50      2.00   Mujer\n",
       "51      1.83   Mujer\n",
       "52      2.01  Hombre\n",
       "53      1.82   Mujer\n",
       "54      1.65   Mujer\n",
       "55      1.72  Hombre\n",
       "56      1.68  Hombre\n",
       "57      1.73   Mujer\n",
       "58      1.54   Mujer\n",
       "59      1.65   Mujer"
      ]
     },
     "execution_count": 35,
     "metadata": {},
     "output_type": "execute_result"
    }
   ],
   "source": [
    "#1c. Generamos un DataFrame con pd.DataFrame()\n",
    "df = pd.DataFrame({'Estatura': estatura,\n",
    "                  'Sexo': sexo})\n",
    "df\n"
   ]
  },
  {
   "cell_type": "markdown",
   "id": "5aa0602c",
   "metadata": {},
   "source": [
    "#### 2. Análisis descriptivo / variables cuantitativas: Análisis descriptivo numérico y gráfico. \n",
    "- Resumen estadístico (media, mediana, desviación estandar, quantiles...) y tabla de frecuencias.  \n",
    "- Hacer un gráfico de dispersión, un gráfico de caja y bigotes, y un histograma"
   ]
  },
  {
   "cell_type": "code",
   "execution_count": 37,
   "id": "e7e9a33b",
   "metadata": {},
   "outputs": [
    {
     "data": {
      "text/html": [
       "<div>\n",
       "<style scoped>\n",
       "    .dataframe tbody tr th:only-of-type {\n",
       "        vertical-align: middle;\n",
       "    }\n",
       "\n",
       "    .dataframe tbody tr th {\n",
       "        vertical-align: top;\n",
       "    }\n",
       "\n",
       "    .dataframe thead tr th {\n",
       "        text-align: left;\n",
       "    }\n",
       "\n",
       "    .dataframe thead tr:last-of-type th {\n",
       "        text-align: right;\n",
       "    }\n",
       "</style>\n",
       "<table border=\"1\" class=\"dataframe\">\n",
       "  <thead>\n",
       "    <tr>\n",
       "      <th></th>\n",
       "      <th colspan=\"8\" halign=\"left\">Estatura</th>\n",
       "    </tr>\n",
       "    <tr>\n",
       "      <th></th>\n",
       "      <th>count</th>\n",
       "      <th>mean</th>\n",
       "      <th>std</th>\n",
       "      <th>min</th>\n",
       "      <th>25%</th>\n",
       "      <th>50%</th>\n",
       "      <th>75%</th>\n",
       "      <th>max</th>\n",
       "    </tr>\n",
       "    <tr>\n",
       "      <th>Sexo</th>\n",
       "      <th></th>\n",
       "      <th></th>\n",
       "      <th></th>\n",
       "      <th></th>\n",
       "      <th></th>\n",
       "      <th></th>\n",
       "      <th></th>\n",
       "      <th></th>\n",
       "    </tr>\n",
       "  </thead>\n",
       "  <tbody>\n",
       "    <tr>\n",
       "      <th>Hombre</th>\n",
       "      <td>20.0</td>\n",
       "      <td>1.756</td>\n",
       "      <td>0.133511</td>\n",
       "      <td>1.54</td>\n",
       "      <td>1.6775</td>\n",
       "      <td>1.715</td>\n",
       "      <td>1.8600</td>\n",
       "      <td>2.01</td>\n",
       "    </tr>\n",
       "    <tr>\n",
       "      <th>Mujer</th>\n",
       "      <td>40.0</td>\n",
       "      <td>1.745</td>\n",
       "      <td>0.143420</td>\n",
       "      <td>1.41</td>\n",
       "      <td>1.6300</td>\n",
       "      <td>1.730</td>\n",
       "      <td>1.8325</td>\n",
       "      <td>2.05</td>\n",
       "    </tr>\n",
       "  </tbody>\n",
       "</table>\n",
       "</div>"
      ],
      "text/plain": [
       "       Estatura                                                    \n",
       "          count   mean       std   min     25%    50%     75%   max\n",
       "Sexo                                                               \n",
       "Hombre     20.0  1.756  0.133511  1.54  1.6775  1.715  1.8600  2.01\n",
       "Mujer      40.0  1.745  0.143420  1.41  1.6300  1.730  1.8325  2.05"
      ]
     },
     "execution_count": 37,
     "metadata": {},
     "output_type": "execute_result"
    }
   ],
   "source": [
    "#2a. Realizamos el resumen estadístico. PISTA: hay una función que genera las \n",
    "#    variables básicas que necesitamos. \n",
    "df.groupby(['Sexo']).describe()\n",
    "\n"
   ]
  },
  {
   "cell_type": "code",
   "execution_count": 39,
   "id": "3b1a153a",
   "metadata": {},
   "outputs": [
    {
     "data": {
      "text/html": [
       "<div>\n",
       "<style scoped>\n",
       "    .dataframe tbody tr th:only-of-type {\n",
       "        vertical-align: middle;\n",
       "    }\n",
       "\n",
       "    .dataframe tbody tr th {\n",
       "        vertical-align: top;\n",
       "    }\n",
       "\n",
       "    .dataframe thead th {\n",
       "        text-align: right;\n",
       "    }\n",
       "</style>\n",
       "<table border=\"1\" class=\"dataframe\">\n",
       "  <thead>\n",
       "    <tr style=\"text-align: right;\">\n",
       "      <th></th>\n",
       "      <th>frequency</th>\n",
       "    </tr>\n",
       "    <tr>\n",
       "      <th>Sexo</th>\n",
       "      <th></th>\n",
       "    </tr>\n",
       "  </thead>\n",
       "  <tbody>\n",
       "    <tr>\n",
       "      <th>Hombre</th>\n",
       "      <td>20</td>\n",
       "    </tr>\n",
       "    <tr>\n",
       "      <th>Mujer</th>\n",
       "      <td>40</td>\n",
       "    </tr>\n",
       "  </tbody>\n",
       "</table>\n",
       "</div>"
      ],
      "text/plain": [
       "        frequency\n",
       "Sexo             \n",
       "Hombre         20\n",
       "Mujer          40"
      ]
     },
     "execution_count": 39,
     "metadata": {},
     "output_type": "execute_result"
    }
   ],
   "source": [
    "#2b. Generamos una tabla de frecuencias. \n",
    "df.groupby(['Sexo']).agg(frequency=(\"Sexo\", \"count\"))\n",
    "\n",
    "\n"
   ]
  },
  {
   "cell_type": "code",
   "execution_count": 41,
   "id": "bf0507e3",
   "metadata": {},
   "outputs": [
    {
     "data": {
      "text/plain": [
       "Text(0, 0.5, 'Eje Y')"
      ]
     },
     "execution_count": 41,
     "metadata": {},
     "output_type": "execute_result"
    },
    {
     "data": {
      "image/png": "[encoded data removed]",
      "text/plain": [
       "<Figure size 432x288 with 1 Axes>"
      ]
     },
     "metadata": {
      "needs_background": "light"
     },
     "output_type": "display_data"
    }
   ],
   "source": [
    "#2c. Generamos un gráfico de dispersión.\n",
    "plt.scatter(x=df.Sexo, y=df.Estatura)\n",
    "plt.title('Gráfico de Dispersión')\n",
    "plt.xlabel('Eje X')\n",
    "plt.ylabel('Eje Y')\n",
    "\n"
   ]
  },
  {
   "cell_type": "code",
   "execution_count": 43,
   "id": "6cba5bf3",
   "metadata": {},
   "outputs": [
    {
     "data": {
      "text/plain": [
       "<AxesSubplot:xlabel='Sexo', ylabel='Estatura'>"
      ]
     },
     "execution_count": 43,
     "metadata": {},
     "output_type": "execute_result"
    },
    {
     "data": {
      "image/png": "[encoded data removed]",
      "text/plain": [
       "<Figure size 432x288 with 1 Axes>"
      ]
     },
     "metadata": {
      "needs_background": "light"
     },
     "output_type": "display_data"
    }
   ],
   "source": [
    "#2d. Generamos un gráfico de cajas y bigotes.259629529252\n",
    "sns.boxplot(data=df, x='Sexo', y='Estatura')\n",
    "\n",
    "\n",
    "\n",
    "#    BONUS: hay un tipo de gráfico que representa también la función de distribución. Intenta encontrarlo. \n",
    "\n",
    "\n"
   ]
  },
  {
   "cell_type": "code",
   "execution_count": 45,
   "id": "475dd419",
   "metadata": {},
   "outputs": [
    {
     "data": {
      "text/plain": [
       "array([<AxesSubplot:title={'center':'Hombre'}>,\n",
       "       <AxesSubplot:title={'center':'Mujer'}>], dtype=object)"
      ]
     },
     "execution_count": 45,
     "metadata": {},
     "output_type": "execute_result"
    },
    {
     "data": {
      "image/png": "[encoded data removed]",
      "text/plain": [
       "<Figure size 432x288 with 2 Axes>"
      ]
     },
     "metadata": {
      "needs_background": "light"
     },
     "output_type": "display_data"
    }
   ],
   "source": [
    "#2e. Generamos un histograma.\n",
    "df.hist(by='Sexo')\n",
    "\n",
    "\n"
   ]
  },
  {
   "cell_type": "markdown",
   "id": "0a6a4665",
   "metadata": {},
   "source": [
    "#### 3. Análisis descriptivo / variables cualitativa: Análisis descriptivo numérico y gráfico. \n",
    "- Resumen estadístico (frecuencia) y tabla de frecuencias.  \n",
    "- Hacer un diagrama de barras y un diagrama de sectores"
   ]
  },
  {
   "cell_type": "code",
   "execution_count": null,
   "id": "817bc2ae",
   "metadata": {},
   "outputs": [],
   "source": [
    "#3a. Realizamos el resumen estadístico. PISTA: hay una función que genera las \n",
    "#    variables básicas que necesitamos. \n",
    "\n",
    "\n"
   ]
  },
  {
   "cell_type": "code",
   "execution_count": 1,
   "id": "bfbe60b1",
   "metadata": {},
   "outputs": [],
   "source": [
    "#3b. Generamos una tabla de frecuencias. \n",
    "\n",
    "\n",
    "\n"
   ]
  },
  {
   "cell_type": "code",
   "execution_count": 47,
   "id": "7af9d0fc",
   "metadata": {},
   "outputs": [
    {
     "data": {
      "text/plain": [
       "<BarContainer object of 60 artists>"
      ]
     },
     "execution_count": 47,
     "metadata": {},
     "output_type": "execute_result"
    },
    {
     "data": {
      "image/png": "[encoded data removed]",
      "text/plain": [
       "<Figure size 432x288 with 1 Axes>"
      ]
     },
     "metadata": {
      "needs_background": "light"
     },
     "output_type": "display_data"
    }
   ],
   "source": [
    "#3c. Generamos un diagrama de barras. \n",
    "plt.bar(df.Sexo,df.Estatura)\n",
    "\n",
    "\n"
   ]
  },
  {
   "cell_type": "code",
   "execution_count": 58,
   "id": "aa3cc951",
   "metadata": {},
   "outputs": [
    {
     "name": "stdout",
     "output_type": "stream",
     "text": [
      "        frequency\n",
      "Sexo             \n",
      "Hombre         20\n",
      "Mujer          40\n"
     ]
    },
    {
     "data": {
      "text/plain": [
       "([<matplotlib.patches.Wedge at 0x2126633bd00>,\n",
       "  <matplotlib.patches.Wedge at 0x2126634b4f0>],\n",
       " [Text(0.5499999702695115, 0.9526279613277875, 'Hombre'),\n",
       "  Text(-0.5999998702669558, -1.0392305594427238, 'Mujer')],\n",
       " [Text(0.2999999837833699, 0.5196152516333385, '33.3 %'),\n",
       "  Text(-0.3499999243223908, -0.6062178263415887, '66.7 %')])"
      ]
     },
     "execution_count": 58,
     "metadata": {},
     "output_type": "execute_result"
    },
    {
     "data": {
      "image/png": "[encoded data removed]",
      "text/plain": [
       "<Figure size 432x288 with 1 Axes>"
      ]
     },
     "metadata": {},
     "output_type": "display_data"
    }
   ],
   "source": [
    "#3d. Generamos un diagrama de sectores.\n",
    "sect = df.groupby(['Sexo']).agg(frequency=(\"Sexo\", \"count\"))\n",
    "#plt.pie(sect.frequency,labels=sect.index) Esto es el codigo para que esté junto\n",
    "desfase=(0, 0.1)\n",
    "plt.pie(sect.frequency,labels=sect.index,autopct=\"%0.1f %%\", explode = desfase)\n",
    "\n"
   ]
  },
  {
   "cell_type": "markdown",
   "id": "a21c69fa",
   "metadata": {},
   "source": [
    "#### 4. Hallar la estatura media por sexo y generar los histogramas de alturas por sexo para compararlos. \n",
    "- Previamente, manipula las opciones gráficas de la forma que se desee. "
   ]
  },
  {
   "cell_type": "code",
   "execution_count": 64,
   "id": "0826ece4",
   "metadata": {},
   "outputs": [
    {
     "name": "stdout",
     "output_type": "stream",
     "text": [
      "        Estatura\n",
      "Sexo            \n",
      "Hombre     1.756\n",
      "Mujer      1.745\n"
     ]
    }
   ],
   "source": [
    "#4a. Halla la estatura media por sexo\n",
    "media = df.groupby(['Sexo']).mean()\n",
    "print(media)\n",
    "\n"
   ]
  },
  {
   "cell_type": "code",
   "execution_count": 65,
   "id": "8cf7fa80",
   "metadata": {},
   "outputs": [
    {
     "data": {
      "text/plain": [
       "array([<AxesSubplot:title={'center':'Hombre'}>,\n",
       "       <AxesSubplot:title={'center':'Mujer'}>], dtype=object)"
      ]
     },
     "execution_count": 65,
     "metadata": {},
     "output_type": "execute_result"
    },
    {
     "data": {
      "image/png": "[encoded data removed]",
      "text/plain": [
       "<Figure size 432x288 with 2 Axes>"
      ]
     },
     "metadata": {
      "needs_background": "light"
     },
     "output_type": "display_data"
    }
   ],
   "source": [
    "#4b. Genera los histogramas de alturas por sexo y poder compararlos. \n",
    "df.hist(by='Sexo')\n",
    "\n",
    "\n"
   ]
  },
  {
   "cell_type": "code",
   "execution_count": 68,
   "id": "a9e5573f",
   "metadata": {},
   "outputs": [
    {
     "data": {
      "text/plain": [
       "array([<AxesSubplot:title={'center':'Hombre'}>,\n",
       "       <AxesSubplot:title={'center':'Mujer'}>], dtype=object)"
      ]
     },
     "execution_count": 68,
     "metadata": {},
     "output_type": "execute_result"
    },
    {
     "data": {
      "image/png": "[encoded data removed]",
      "text/plain": [
       "<Figure size 432x288 with 2 Axes>"
      ]
     },
     "metadata": {
      "needs_background": "light"
     },
     "output_type": "display_data"
    }
   ],
   "source": [
    "#4c. Manipula el gráfico anterior en la forma que desees para poder ser presentado. \n",
    "df.hist(by='Sexo', color='green')\n",
    "\n",
    "\n"
   ]
  },
  {
   "cell_type": "markdown",
   "id": "0751c92d",
   "metadata": {},
   "source": [
    "#### 5. El dataset `mpg` contiene información sobre características de un conjunto de vehículos. \n",
    "1. Para cargar el dataset, usad la siguiente función `sns.load_dataset('mpg')`\n",
    "\n",
    "2. Haz una tabla de frecuencias, un diagrama de barras y un diagrama de sectores de la variable `model_year` (año de fabricación).\n",
    "\n",
    "3. Haz una tabla de frecuencias para la variable `mpg`. ¿Qué porcentaje de coches consumenos menos de 22 mpg (usa intervalos de 22)? \n",
    "\n",
    "4. Haz el box-and-whisker plot de alguna de las variables cuantitativas y comenta sus características más importantes (concentraciones, asimetrías, atípicos...).\n",
    "\n",
    "5. Haz un polígono de frecuencias RELATIVAS acumuladas de la variable `horsepower` (potencia - caballos).\n",
    "\n",
    "6. Utilizando el polígono o diagrama de frecuencias relativas acumuladas, di aproximadamente la proporción de vehículos que tienen una potencia menor o igual a 100 CV. "
   ]
  },
  {
   "cell_type": "code",
   "execution_count": 66,
   "id": "0ab38e9d",
   "metadata": {},
   "outputs": [],
   "source": [
    "#5x. Carga el dataset mpg. \n",
    "\n",
    "mpg = sns.load_dataset('mpg')\n",
    "\n"
   ]
  },
  {
   "cell_type": "code",
   "execution_count": 72,
   "id": "fe2545f3",
   "metadata": {},
   "outputs": [
    {
     "ename": "ValueError",
     "evalue": "If using all scalar values, you must pass an index",
     "output_type": "error",
     "traceback": [
      "\u001b[1;31m---------------------------------------------------------------------------\u001b[0m",
      "\u001b[1;31mValueError\u001b[0m                                Traceback (most recent call last)",
      "\u001b[1;32m~\\AppData\\Local\\Temp/ipykernel_9756/533691865.py\u001b[0m in \u001b[0;36m<module>\u001b[1;34m\u001b[0m\n\u001b[0;32m      1\u001b[0m \u001b[1;31m#5a. Genera una tabla de frecuencias, un diagrama de barras y un diagrama de sectores de la variable\u001b[0m\u001b[1;33m\u001b[0m\u001b[1;33m\u001b[0m\u001b[0m\n\u001b[0;32m      2\u001b[0m \u001b[1;31m#    'model_year' (año de fabricación)\u001b[0m\u001b[1;33m\u001b[0m\u001b[1;33m\u001b[0m\u001b[0m\n\u001b[1;32m----> 3\u001b[1;33m \u001b[0mdf2\u001b[0m \u001b[1;33m=\u001b[0m \u001b[0mpd\u001b[0m\u001b[1;33m.\u001b[0m\u001b[0mDataFrame\u001b[0m\u001b[1;33m(\u001b[0m\u001b[1;33m{\u001b[0m\u001b[1;34m'mpg'\u001b[0m\u001b[1;33m:\u001b[0m \u001b[0mmpg\u001b[0m\u001b[1;33m}\u001b[0m\u001b[1;33m)\u001b[0m\u001b[1;33m\u001b[0m\u001b[1;33m\u001b[0m\u001b[0m\n\u001b[0m\u001b[0;32m      4\u001b[0m \u001b[0mdf2\u001b[0m\u001b[1;33m.\u001b[0m\u001b[0mgroupby\u001b[0m\u001b[1;33m(\u001b[0m\u001b[1;33m[\u001b[0m\u001b[1;34m'mpg'\u001b[0m\u001b[1;33m]\u001b[0m\u001b[1;33m)\u001b[0m\u001b[1;33m.\u001b[0m\u001b[0mdescribe\u001b[0m\u001b[1;33m(\u001b[0m\u001b[1;33m)\u001b[0m\u001b[1;33m\u001b[0m\u001b[1;33m\u001b[0m\u001b[0m\n\u001b[0;32m      5\u001b[0m \u001b[0mdf2\u001b[0m\u001b[1;33m.\u001b[0m\u001b[0mgroupby\u001b[0m\u001b[1;33m(\u001b[0m\u001b[1;33m[\u001b[0m\u001b[1;34m'mpg'\u001b[0m\u001b[1;33m]\u001b[0m\u001b[1;33m)\u001b[0m\u001b[1;33m.\u001b[0m\u001b[0magg\u001b[0m\u001b[1;33m(\u001b[0m\u001b[0mfrequency\u001b[0m\u001b[1;33m=\u001b[0m\u001b[1;33m(\u001b[0m\u001b[1;34m\"mpg\"\u001b[0m\u001b[1;33m,\u001b[0m \u001b[1;34m\"count\"\u001b[0m\u001b[1;33m)\u001b[0m\u001b[1;33m)\u001b[0m\u001b[1;33m\u001b[0m\u001b[1;33m\u001b[0m\u001b[0m\n",
      "\u001b[1;32mC:\\ProgramData\\Anaconda3\\lib\\site-packages\\pandas\\core\\frame.py\u001b[0m in \u001b[0;36m__init__\u001b[1;34m(self, data, index, columns, dtype, copy)\u001b[0m\n\u001b[0;32m    612\u001b[0m         \u001b[1;32melif\u001b[0m \u001b[0misinstance\u001b[0m\u001b[1;33m(\u001b[0m\u001b[0mdata\u001b[0m\u001b[1;33m,\u001b[0m \u001b[0mdict\u001b[0m\u001b[1;33m)\u001b[0m\u001b[1;33m:\u001b[0m\u001b[1;33m\u001b[0m\u001b[1;33m\u001b[0m\u001b[0m\n\u001b[0;32m    613\u001b[0m             \u001b[1;31m# GH#38939 de facto copy defaults to False only in non-dict cases\u001b[0m\u001b[1;33m\u001b[0m\u001b[1;33m\u001b[0m\u001b[0m\n\u001b[1;32m--> 614\u001b[1;33m             \u001b[0mmgr\u001b[0m \u001b[1;33m=\u001b[0m \u001b[0mdict_to_mgr\u001b[0m\u001b[1;33m(\u001b[0m\u001b[0mdata\u001b[0m\u001b[1;33m,\u001b[0m \u001b[0mindex\u001b[0m\u001b[1;33m,\u001b[0m \u001b[0mcolumns\u001b[0m\u001b[1;33m,\u001b[0m \u001b[0mdtype\u001b[0m\u001b[1;33m=\u001b[0m\u001b[0mdtype\u001b[0m\u001b[1;33m,\u001b[0m \u001b[0mcopy\u001b[0m\u001b[1;33m=\u001b[0m\u001b[0mcopy\u001b[0m\u001b[1;33m,\u001b[0m \u001b[0mtyp\u001b[0m\u001b[1;33m=\u001b[0m\u001b[0mmanager\u001b[0m\u001b[1;33m)\u001b[0m\u001b[1;33m\u001b[0m\u001b[1;33m\u001b[0m\u001b[0m\n\u001b[0m\u001b[0;32m    615\u001b[0m         \u001b[1;32melif\u001b[0m \u001b[0misinstance\u001b[0m\u001b[1;33m(\u001b[0m\u001b[0mdata\u001b[0m\u001b[1;33m,\u001b[0m \u001b[0mma\u001b[0m\u001b[1;33m.\u001b[0m\u001b[0mMaskedArray\u001b[0m\u001b[1;33m)\u001b[0m\u001b[1;33m:\u001b[0m\u001b[1;33m\u001b[0m\u001b[1;33m\u001b[0m\u001b[0m\n\u001b[0;32m    616\u001b[0m             \u001b[1;32mimport\u001b[0m \u001b[0mnumpy\u001b[0m\u001b[1;33m.\u001b[0m\u001b[0mma\u001b[0m\u001b[1;33m.\u001b[0m\u001b[0mmrecords\u001b[0m \u001b[1;32mas\u001b[0m \u001b[0mmrecords\u001b[0m\u001b[1;33m\u001b[0m\u001b[1;33m\u001b[0m\u001b[0m\n",
      "\u001b[1;32mC:\\ProgramData\\Anaconda3\\lib\\site-packages\\pandas\\core\\internals\\construction.py\u001b[0m in \u001b[0;36mdict_to_mgr\u001b[1;34m(data, index, columns, dtype, typ, copy)\u001b[0m\n\u001b[0;32m    462\u001b[0m         \u001b[1;31m# TODO: can we get rid of the dt64tz special case above?\u001b[0m\u001b[1;33m\u001b[0m\u001b[1;33m\u001b[0m\u001b[0m\n\u001b[0;32m    463\u001b[0m \u001b[1;33m\u001b[0m\u001b[0m\n\u001b[1;32m--> 464\u001b[1;33m     return arrays_to_mgr(\n\u001b[0m\u001b[0;32m    465\u001b[0m         \u001b[0marrays\u001b[0m\u001b[1;33m,\u001b[0m \u001b[0mdata_names\u001b[0m\u001b[1;33m,\u001b[0m \u001b[0mindex\u001b[0m\u001b[1;33m,\u001b[0m \u001b[0mcolumns\u001b[0m\u001b[1;33m,\u001b[0m \u001b[0mdtype\u001b[0m\u001b[1;33m=\u001b[0m\u001b[0mdtype\u001b[0m\u001b[1;33m,\u001b[0m \u001b[0mtyp\u001b[0m\u001b[1;33m=\u001b[0m\u001b[0mtyp\u001b[0m\u001b[1;33m,\u001b[0m \u001b[0mconsolidate\u001b[0m\u001b[1;33m=\u001b[0m\u001b[0mcopy\u001b[0m\u001b[1;33m\u001b[0m\u001b[1;33m\u001b[0m\u001b[0m\n\u001b[0;32m    466\u001b[0m     )\n",
      "\u001b[1;32mC:\\ProgramData\\Anaconda3\\lib\\site-packages\\pandas\\core\\internals\\construction.py\u001b[0m in \u001b[0;36marrays_to_mgr\u001b[1;34m(arrays, arr_names, index, columns, dtype, verify_integrity, typ, consolidate)\u001b[0m\n\u001b[0;32m    117\u001b[0m         \u001b[1;31m# figure out the index, if necessary\u001b[0m\u001b[1;33m\u001b[0m\u001b[1;33m\u001b[0m\u001b[0m\n\u001b[0;32m    118\u001b[0m         \u001b[1;32mif\u001b[0m \u001b[0mindex\u001b[0m \u001b[1;32mis\u001b[0m \u001b[1;32mNone\u001b[0m\u001b[1;33m:\u001b[0m\u001b[1;33m\u001b[0m\u001b[1;33m\u001b[0m\u001b[0m\n\u001b[1;32m--> 119\u001b[1;33m             \u001b[0mindex\u001b[0m \u001b[1;33m=\u001b[0m \u001b[0m_extract_index\u001b[0m\u001b[1;33m(\u001b[0m\u001b[0marrays\u001b[0m\u001b[1;33m)\u001b[0m\u001b[1;33m\u001b[0m\u001b[1;33m\u001b[0m\u001b[0m\n\u001b[0m\u001b[0;32m    120\u001b[0m         \u001b[1;32melse\u001b[0m\u001b[1;33m:\u001b[0m\u001b[1;33m\u001b[0m\u001b[1;33m\u001b[0m\u001b[0m\n\u001b[0;32m    121\u001b[0m             \u001b[0mindex\u001b[0m \u001b[1;33m=\u001b[0m \u001b[0mensure_index\u001b[0m\u001b[1;33m(\u001b[0m\u001b[0mindex\u001b[0m\u001b[1;33m)\u001b[0m\u001b[1;33m\u001b[0m\u001b[1;33m\u001b[0m\u001b[0m\n",
      "\u001b[1;32mC:\\ProgramData\\Anaconda3\\lib\\site-packages\\pandas\\core\\internals\\construction.py\u001b[0m in \u001b[0;36m_extract_index\u001b[1;34m(data)\u001b[0m\n\u001b[0;32m    623\u001b[0m \u001b[1;33m\u001b[0m\u001b[0m\n\u001b[0;32m    624\u001b[0m         \u001b[1;32mif\u001b[0m \u001b[1;32mnot\u001b[0m \u001b[0mindexes\u001b[0m \u001b[1;32mand\u001b[0m \u001b[1;32mnot\u001b[0m \u001b[0mraw_lengths\u001b[0m\u001b[1;33m:\u001b[0m\u001b[1;33m\u001b[0m\u001b[1;33m\u001b[0m\u001b[0m\n\u001b[1;32m--> 625\u001b[1;33m             \u001b[1;32mraise\u001b[0m \u001b[0mValueError\u001b[0m\u001b[1;33m(\u001b[0m\u001b[1;34m\"If using all scalar values, you must pass an index\"\u001b[0m\u001b[1;33m)\u001b[0m\u001b[1;33m\u001b[0m\u001b[1;33m\u001b[0m\u001b[0m\n\u001b[0m\u001b[0;32m    626\u001b[0m \u001b[1;33m\u001b[0m\u001b[0m\n\u001b[0;32m    627\u001b[0m         \u001b[1;32mif\u001b[0m \u001b[0mhave_series\u001b[0m\u001b[1;33m:\u001b[0m\u001b[1;33m\u001b[0m\u001b[1;33m\u001b[0m\u001b[0m\n",
      "\u001b[1;31mValueError\u001b[0m: If using all scalar values, you must pass an index"
     ]
    }
   ],
   "source": [
    "#5a. Genera una tabla de frecuencias, un diagrama de barras y un diagrama de sectores de la variable \n",
    "#    'model_year' (año de fabricación)\n",
    "df2 = pd.DataFrame({'mpg': mpg})\n",
    "df2.groupby(['mpg']).describe()\n",
    "df2.groupby(['mpg']).agg(frequency=(\"mpg\", \"count\"))\n",
    "\n",
    "\n"
   ]
  },
  {
   "cell_type": "code",
   "execution_count": null,
   "id": "54f4526e",
   "metadata": {},
   "outputs": [],
   "source": [
    "#5b. Genera una tabla de frecuencias de la variable 'mpg'. \n",
    "#    ¿Qué porcentaje de coches consumenos menos de 22 mpg (usa intervalos de 22)?\n",
    "\n",
    "\n",
    "\n"
   ]
  },
  {
   "cell_type": "code",
   "execution_count": null,
   "id": "98a9051c",
   "metadata": {},
   "outputs": [],
   "source": [
    "#5c. Genera un box-and-whisker plot de alguna de las variables cuantitativas y \n",
    "#    comenta sus características más importantes (concentraciones, asimetrías, atípicos...)\n",
    "\n",
    "\n",
    "\n",
    "\n",
    "#    BONUS: hay un tipo de gráfico que representa también la función de distribución. Intenta encontrarlo. \n",
    "\n",
    "\n",
    "\n"
   ]
  },
  {
   "cell_type": "code",
   "execution_count": null,
   "id": "a10001c8",
   "metadata": {},
   "outputs": [],
   "source": [
    "#5d. Genera un polígono de frecuencias RELATIVAS acumuladas de la variable 'horsepower' (potencia - caballos).\n",
    "\n",
    "\n",
    "\n"
   ]
  },
  {
   "cell_type": "code",
   "execution_count": null,
   "id": "a2f69ad6",
   "metadata": {},
   "outputs": [],
   "source": [
    "#5e. Utilizando la figura previa, di aproximadamente la proporción de vehículos que tienen una\n",
    "#    potencia menor o igual a 100 CV.\n",
    "\n",
    "\n",
    "\n"
   ]
  },
  {
   "cell_type": "markdown",
   "id": "2c5bce99",
   "metadata": {},
   "source": [
    "#### Realizar un informe con los análisis realizados de cada uno de los apartados anteriores y exportarlo en un fichero .PDF\n",
    "El informe se realizará en un grupos de dos personas analizando los resultados obtenidos en cada uno de los apartados anteriores. Todas las gráficas deberán estar bien maquetadas: título, titulo en los ejes, ejes con un intervalo lógico y leyenda (si es el caso). El código empleado también se deberá incluir. \n",
    "\n",
    "En el Moodle se encuentra un trabajo tipo para que tengáis de referencia. El archivo incluirá los nombres de todos autores en el siguiente formato:\n",
    "\n",
    "Nombre del archivo: Practica1_ApellidosNombre1_ApellidosNombre2.pdf (extensión obligatoria en .pdf)\n",
    "\n",
    "Se avisará en Moodle la fecha límite de entrega de este informe. "
   ]
  }
 ],
 "metadata": {
  "kernelspec": {
   "display_name": "Python 3 (ipykernel)",
   "language": "python",
   "name": "python3"
  },
  "language_info": {
   "codemirror_mode": {
    "name": "ipython",
    "version": 3
   },
   "file_extension": ".py",
   "mimetype": "text/x-python",
   "name": "python",
   "nbconvert_exporter": "python",
   "pygments_lexer": "ipython3",
   "version": "3.9.7"
  }
 },
 "nbformat": 4,
 "nbformat_minor": 5
}
